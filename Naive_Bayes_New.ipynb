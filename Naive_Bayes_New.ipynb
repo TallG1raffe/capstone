{
 "cells": [
  {
   "cell_type": "code",
   "execution_count": 7,
   "id": "2ac0ca33",
   "metadata": {},
   "outputs": [],
   "source": [
    "import pickle\n",
    "import pandas as pd\n",
    "from sklearn.model_selection import train_test_split\n",
    "from imblearn.over_sampling import SMOTE\n",
    "from sklearn.naive_bayes import MultinomialNB\n",
    "from sklearn.metrics import accuracy_score\n",
    "from sklearn.feature_extraction.text import CountVectorizer"
   ]
  },
  {
   "cell_type": "code",
   "execution_count": 8,
   "id": "132a0c59",
   "metadata": {},
   "outputs": [
    {
     "data": {
      "text/html": [
       "<div>\n",
       "<style scoped>\n",
       "    .dataframe tbody tr th:only-of-type {\n",
       "        vertical-align: middle;\n",
       "    }\n",
       "\n",
       "    .dataframe tbody tr th {\n",
       "        vertical-align: top;\n",
       "    }\n",
       "\n",
       "    .dataframe thead th {\n",
       "        text-align: right;\n",
       "    }\n",
       "</style>\n",
       "<table border=\"1\" class=\"dataframe\">\n",
       "  <thead>\n",
       "    <tr style=\"text-align: right;\">\n",
       "      <th></th>\n",
       "      <th>feedback_id</th>\n",
       "      <th>employee_name</th>\n",
       "      <th>department</th>\n",
       "      <th>feedback</th>\n",
       "      <th>sentiment</th>\n",
       "    </tr>\n",
       "  </thead>\n",
       "  <tbody>\n",
       "    <tr>\n",
       "      <th>0</th>\n",
       "      <td>1</td>\n",
       "      <td>John Doe</td>\n",
       "      <td>Marketing</td>\n",
       "      <td>John consistently meets his deadlines and prod...</td>\n",
       "      <td>positive</td>\n",
       "    </tr>\n",
       "    <tr>\n",
       "      <th>1</th>\n",
       "      <td>2</td>\n",
       "      <td>Jane Smith</td>\n",
       "      <td>Sales</td>\n",
       "      <td>Jane has shown significant improvement in her ...</td>\n",
       "      <td>positive</td>\n",
       "    </tr>\n",
       "    <tr>\n",
       "      <th>2</th>\n",
       "      <td>3</td>\n",
       "      <td>David Johnson</td>\n",
       "      <td>Engineering</td>\n",
       "      <td>David needs to pay more attention to detail in...</td>\n",
       "      <td>negative</td>\n",
       "    </tr>\n",
       "    <tr>\n",
       "      <th>3</th>\n",
       "      <td>4</td>\n",
       "      <td>Emily Brown</td>\n",
       "      <td>Finance</td>\n",
       "      <td>Emily consistently delivers accurate financial...</td>\n",
       "      <td>positive</td>\n",
       "    </tr>\n",
       "    <tr>\n",
       "      <th>4</th>\n",
       "      <td>5</td>\n",
       "      <td>Michael Wilson</td>\n",
       "      <td>Human Resources</td>\n",
       "      <td>Michael has excellent interpersonal skills and...</td>\n",
       "      <td>positive</td>\n",
       "    </tr>\n",
       "  </tbody>\n",
       "</table>\n",
       "</div>"
      ],
      "text/plain": [
       "   feedback_id   employee_name       department  \\\n",
       "0            1        John Doe        Marketing   \n",
       "1            2      Jane Smith            Sales   \n",
       "2            3   David Johnson      Engineering   \n",
       "3            4     Emily Brown          Finance   \n",
       "4            5  Michael Wilson  Human Resources   \n",
       "\n",
       "                                            feedback sentiment  \n",
       "0  John consistently meets his deadlines and prod...  positive  \n",
       "1  Jane has shown significant improvement in her ...  positive  \n",
       "2  David needs to pay more attention to detail in...  negative  \n",
       "3  Emily consistently delivers accurate financial...  positive  \n",
       "4  Michael has excellent interpersonal skills and...  positive  "
      ]
     },
     "execution_count": 8,
     "metadata": {},
     "output_type": "execute_result"
    }
   ],
   "source": [
    "df = pd.read_json('response_data.json')\n",
    "df.head()"
   ]
  },
  {
   "cell_type": "code",
   "execution_count": 9,
   "id": "735a0268",
   "metadata": {},
   "outputs": [],
   "source": [
    "X = df.feedback\n",
    "y = df.sentiment\n",
    "\n",
    "X_train, X_test, y_train, y_test = train_test_split(X, y, test_size=0.2)"
   ]
  },
  {
   "cell_type": "code",
   "execution_count": 10,
   "id": "fa82f788",
   "metadata": {},
   "outputs": [],
   "source": [
    "vect = CountVectorizer(max_features=1000)\n",
    "\n",
    "X_train_vect = vect.fit_transform(X_train)"
   ]
  },
  {
   "cell_type": "code",
   "execution_count": 11,
   "id": "dffd3e4a",
   "metadata": {},
   "outputs": [],
   "source": [
    "sm = SMOTE()\n",
    "\n",
    "X_train_res, y_train_res = sm.fit_resample(X_train_vect, y_train)"
   ]
  },
  {
   "cell_type": "code",
   "execution_count": 12,
   "id": "cd5937f2",
   "metadata": {},
   "outputs": [
    {
     "data": {
      "text/plain": [
       "0.9748201438848921"
      ]
     },
     "execution_count": 12,
     "metadata": {},
     "output_type": "execute_result"
    }
   ],
   "source": [
    "model = MultinomialNB()\n",
    "\n",
    "model.fit(X_train_res, y_train_res)\n",
    "\n",
    "model.score(X_train_res, y_train_res)"
   ]
  },
  {
   "cell_type": "code",
   "execution_count": 13,
   "id": "f521f2cd",
   "metadata": {},
   "outputs": [
    {
     "data": {
      "text/plain": [
       "array(['positive', 'negative', 'positive', 'positive', 'positive',\n",
       "       'positive', 'positive', 'mixed', 'positive', 'positive',\n",
       "       'negative', 'mixed', 'negative', 'positive', 'negative',\n",
       "       'negative', 'negative', 'negative', 'positive', 'mixed',\n",
       "       'negative', 'positive', 'mixed', 'positive', 'mixed', 'negative',\n",
       "       'mixed', 'negative', 'negative', 'mixed', 'positive', 'negative',\n",
       "       'positive', 'negative', 'positive', 'mixed', 'negative',\n",
       "       'negative', 'positive', 'mixed', 'mixed', 'negative', 'mixed',\n",
       "       'mixed', 'negative', 'negative', 'negative', 'positive',\n",
       "       'negative', 'negative', 'mixed', 'negative', 'negative',\n",
       "       'positive', 'negative', 'positive', 'mixed', 'negative', 'mixed',\n",
       "       'positive', 'mixed', 'positive', 'negative', 'mixed', 'negative',\n",
       "       'negative', 'negative', 'positive', 'mixed', 'mixed', 'negative',\n",
       "       'positive', 'negative', 'mixed', 'positive', 'positive',\n",
       "       'negative', 'negative', 'negative', 'mixed', 'positive', 'mixed',\n",
       "       'mixed', 'negative', 'positive', 'mixed', 'positive', 'negative',\n",
       "       'negative', 'positive', 'negative', 'mixed', 'positive',\n",
       "       'negative', 'positive', 'positive', 'positive', 'negative',\n",
       "       'positive', 'negative', 'mixed', 'negative', 'positive', 'mixed',\n",
       "       'negative', 'positive', 'positive', 'negative', 'mixed',\n",
       "       'negative', 'mixed', 'negative', 'negative', 'negative', 'mixed',\n",
       "       'mixed', 'mixed', 'negative', 'negative', 'negative', 'negative',\n",
       "       'negative', 'mixed', 'positive', 'mixed', 'positive', 'negative',\n",
       "       'mixed', 'negative', 'negative', 'positive', 'negative',\n",
       "       'negative', 'negative', 'mixed', 'mixed', 'mixed', 'mixed',\n",
       "       'negative', 'negative', 'mixed', 'mixed', 'mixed', 'positive',\n",
       "       'negative', 'mixed', 'mixed', 'positive', 'mixed', 'mixed',\n",
       "       'mixed', 'mixed', 'mixed', 'positive', 'mixed', 'mixed', 'mixed',\n",
       "       'negative', 'mixed', 'mixed', 'mixed', 'negative', 'positive',\n",
       "       'negative', 'negative', 'mixed', 'negative', 'positive',\n",
       "       'negative', 'positive', 'negative', 'mixed', 'positive',\n",
       "       'positive', 'mixed', 'mixed', 'mixed', 'mixed', 'mixed',\n",
       "       'negative', 'positive', 'negative', 'negative', 'negative',\n",
       "       'negative', 'positive', 'mixed', 'positive', 'mixed', 'negative',\n",
       "       'mixed', 'negative', 'negative', 'positive', 'negative',\n",
       "       'negative', 'mixed', 'negative', 'negative', 'positive'],\n",
       "      dtype='<U8')"
      ]
     },
     "execution_count": 13,
     "metadata": {},
     "output_type": "execute_result"
    }
   ],
   "source": [
    "X_test_vect = vect.transform(X_test)\n",
    "\n",
    "y_pred = model.predict(X_test_vect)\n",
    "\n",
    "y_pred"
   ]
  },
  {
   "cell_type": "code",
   "execution_count": 14,
   "id": "681500cf",
   "metadata": {},
   "outputs": [
    {
     "name": "stdout",
     "output_type": "stream",
     "text": [
      "Accuracy: 95.50%\n"
     ]
    }
   ],
   "source": [
    "print(\"Accuracy: {:.2f}%\".format(accuracy_score(y_test, y_pred) * 100))"
   ]
  },
  {
   "cell_type": "code",
   "execution_count": 15,
   "id": "a4b16d04",
   "metadata": {},
   "outputs": [],
   "source": [
    "filename = \"model.pkl\"\n",
    "with open(filename, 'wb') as file:\n",
    "    pickle.dump(model, file)\n",
    "    \n",
    "filename = \"vect.pkl\"\n",
    "with open(filename, 'wb') as file:\n",
    "    pickle.dump(vect, file)"
   ]
  },
  {
   "cell_type": "code",
   "execution_count": null,
   "id": "8ab3f88f",
   "metadata": {},
   "outputs": [],
   "source": []
  }
 ],
 "metadata": {
  "kernelspec": {
   "display_name": "Python 3 (ipykernel)",
   "language": "python",
   "name": "python3"
  },
  "language_info": {
   "codemirror_mode": {
    "name": "ipython",
    "version": 3
   },
   "file_extension": ".py",
   "mimetype": "text/x-python",
   "name": "python",
   "nbconvert_exporter": "python",
   "pygments_lexer": "ipython3",
   "version": "3.10.9"
  }
 },
 "nbformat": 4,
 "nbformat_minor": 5
}

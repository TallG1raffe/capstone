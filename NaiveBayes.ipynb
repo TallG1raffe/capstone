{
 "cells": [
  {
   "cell_type": "code",
   "execution_count": 1,
   "id": "13dc6cc5",
   "metadata": {},
   "outputs": [],
   "source": [
    "import pickle\n",
    "import pandas as pd\n",
    "import numpy as np\n",
    "import matplotlib.pyplot as plt\n",
    "from sklearn.naive_bayes import MultinomialNB\n",
    "from sklearn.model_selection import train_test_split\n",
    "from sklearn.metrics import accuracy_score\n",
    "from sklearn.feature_extraction.text import CountVectorizer\n",
    "from nltk.tokenize import RegexpTokenizer\n",
    "from sklearn import metrics\n",
    "from sklearn.metrics import classification_report, confusion_matrix"
   ]
  },
  {
   "cell_type": "code",
   "execution_count": 2,
   "id": "5bbb1e1b",
   "metadata": {},
   "outputs": [],
   "source": [
    "df = pd.read_json('response_data.json')"
   ]
  },
  {
   "cell_type": "code",
   "execution_count": 3,
   "id": "decea8c8",
   "metadata": {
    "scrolled": false
   },
   "outputs": [
    {
     "data": {
      "text/html": [
       "<div>\n",
       "<style scoped>\n",
       "    .dataframe tbody tr th:only-of-type {\n",
       "        vertical-align: middle;\n",
       "    }\n",
       "\n",
       "    .dataframe tbody tr th {\n",
       "        vertical-align: top;\n",
       "    }\n",
       "\n",
       "    .dataframe thead th {\n",
       "        text-align: right;\n",
       "    }\n",
       "</style>\n",
       "<table border=\"1\" class=\"dataframe\">\n",
       "  <thead>\n",
       "    <tr style=\"text-align: right;\">\n",
       "      <th></th>\n",
       "      <th>feedback_id</th>\n",
       "      <th>employee_name</th>\n",
       "      <th>department</th>\n",
       "      <th>feedback</th>\n",
       "      <th>sentiment</th>\n",
       "    </tr>\n",
       "  </thead>\n",
       "  <tbody>\n",
       "    <tr>\n",
       "      <th>0</th>\n",
       "      <td>1</td>\n",
       "      <td>John Doe</td>\n",
       "      <td>Marketing</td>\n",
       "      <td>John consistently meets his deadlines and prod...</td>\n",
       "      <td>positive</td>\n",
       "    </tr>\n",
       "    <tr>\n",
       "      <th>1</th>\n",
       "      <td>2</td>\n",
       "      <td>Jane Smith</td>\n",
       "      <td>Sales</td>\n",
       "      <td>Jane has shown significant improvement in her ...</td>\n",
       "      <td>positive</td>\n",
       "    </tr>\n",
       "    <tr>\n",
       "      <th>2</th>\n",
       "      <td>3</td>\n",
       "      <td>David Johnson</td>\n",
       "      <td>Engineering</td>\n",
       "      <td>David needs to pay more attention to detail in...</td>\n",
       "      <td>negative</td>\n",
       "    </tr>\n",
       "    <tr>\n",
       "      <th>3</th>\n",
       "      <td>4</td>\n",
       "      <td>Emily Brown</td>\n",
       "      <td>Finance</td>\n",
       "      <td>Emily consistently delivers accurate financial...</td>\n",
       "      <td>positive</td>\n",
       "    </tr>\n",
       "    <tr>\n",
       "      <th>4</th>\n",
       "      <td>5</td>\n",
       "      <td>Michael Wilson</td>\n",
       "      <td>Human Resources</td>\n",
       "      <td>Michael has excellent interpersonal skills and...</td>\n",
       "      <td>positive</td>\n",
       "    </tr>\n",
       "  </tbody>\n",
       "</table>\n",
       "</div>"
      ],
      "text/plain": [
       "   feedback_id   employee_name       department  \\\n",
       "0            1        John Doe        Marketing   \n",
       "1            2      Jane Smith            Sales   \n",
       "2            3   David Johnson      Engineering   \n",
       "3            4     Emily Brown          Finance   \n",
       "4            5  Michael Wilson  Human Resources   \n",
       "\n",
       "                                            feedback sentiment  \n",
       "0  John consistently meets his deadlines and prod...  positive  \n",
       "1  Jane has shown significant improvement in her ...  positive  \n",
       "2  David needs to pay more attention to detail in...  negative  \n",
       "3  Emily consistently delivers accurate financial...  positive  \n",
       "4  Michael has excellent interpersonal skills and...  positive  "
      ]
     },
     "execution_count": 3,
     "metadata": {},
     "output_type": "execute_result"
    }
   ],
   "source": [
    "df.head()"
   ]
  },
  {
   "cell_type": "code",
   "execution_count": 4,
   "id": "edbd7a7c",
   "metadata": {
    "scrolled": true
   },
   "outputs": [
    {
     "data": {
      "text/plain": [
       "0    [John, consistently, meets, his, deadlines, an...\n",
       "1    [Jane, has, shown, significant, improvement, i...\n",
       "2    [David, needs, to, pay, more, attention, to, d...\n",
       "3    [Emily, consistently, delivers, accurate, fina...\n",
       "4    [Michael, has, excellent, interpersonal, skill...\n",
       "Name: feedback, dtype: object"
      ]
     },
     "execution_count": 4,
     "metadata": {},
     "output_type": "execute_result"
    }
   ],
   "source": [
    "tokenized_review=df['feedback'].apply(lambda x: x.split())\n",
    "tokenized_review.head(5)"
   ]
  },
  {
   "cell_type": "code",
   "execution_count": 5,
   "id": "3d4b6807",
   "metadata": {},
   "outputs": [
    {
     "name": "stderr",
     "output_type": "stream",
     "text": [
      "C:\\Users\\wasadmin\\anaconda3\\lib\\site-packages\\sklearn\\feature_extraction\\text.py:528: UserWarning: The parameter 'token_pattern' will not be used since 'tokenizer' is not None'\n",
      "  warnings.warn(\n"
     ]
    }
   ],
   "source": [
    "token = RegexpTokenizer(r'[a-zA-Z0-9]+')\n",
    "cv = CountVectorizer(stop_words='english',ngram_range = (1,1),tokenizer = token.tokenize)\n",
    "text_counts = cv.fit_transform(df['feedback'])"
   ]
  },
  {
   "cell_type": "code",
   "execution_count": 6,
   "id": "08aff664",
   "metadata": {},
   "outputs": [],
   "source": [
    "X = text_counts #feature\n",
    "y = df['sentiment'] #target variable\n",
    "\n",
    "X_train, X_test, y_train, y_test = train_test_split(X, y, test_size=0.2, random_state=42)"
   ]
  },
  {
   "cell_type": "code",
   "execution_count": 7,
   "id": "1455bf0e",
   "metadata": {},
   "outputs": [
    {
     "name": "stdout",
     "output_type": "stream",
     "text": [
      "MultinominalNB model accuracy is 82.00%\n",
      "------------------------------------------------\n",
      "['negative' 'negative' 'negative' 'positive' 'mixed' 'mixed' 'mixed'\n",
      " 'mixed' 'positive' 'positive' 'mixed' 'negative' 'negative' 'positive'\n",
      " 'positive' 'negative' 'negative' 'negative' 'negative' 'positive'\n",
      " 'negative' 'mixed' 'positive' 'positive' 'mixed' 'positive' 'positive'\n",
      " 'mixed' 'positive' 'mixed' 'mixed' 'mixed' 'negative' 'negative' 'mixed'\n",
      " 'positive' 'mixed' 'mixed' 'negative' 'negative' 'positive' 'negative'\n",
      " 'positive' 'mixed' 'negative' 'mixed' 'negative' 'positive' 'negative'\n",
      " 'positive']\n"
     ]
    }
   ],
   "source": [
    "model = MultinomialNB()\n",
    "model.fit(X_train, y_train)\n",
    "\n",
    "predicted = model.predict(X_test)\n",
    "accuracy_score = metrics.accuracy_score(predicted, y_test)\n",
    "\n",
    "print('MultinominalNB model accuracy is',str('{:04.2f}'.format(accuracy_score*100))+'%')\n",
    "print('------------------------------------------------')\n",
    "# print('Confusion Matrix:')\n",
    "# print(pd.DataFrame(confusion_matrix(y_test, predicted)))\n",
    "# print('------------------------------------------------')\n",
    "# print('Classification Report:')\n",
    "# print(classification_report(y_test, predicted))\n",
    "print(predicted)"
   ]
  },
  {
   "cell_type": "code",
   "execution_count": null,
   "id": "196d87e9",
   "metadata": {},
   "outputs": [],
   "source": []
  }
 ],
 "metadata": {
  "kernelspec": {
   "display_name": "Python 3 (ipykernel)",
   "language": "python",
   "name": "python3"
  },
  "language_info": {
   "codemirror_mode": {
    "name": "ipython",
    "version": 3
   },
   "file_extension": ".py",
   "mimetype": "text/x-python",
   "name": "python",
   "nbconvert_exporter": "python",
   "pygments_lexer": "ipython3",
   "version": "3.10.9"
  }
 },
 "nbformat": 4,
 "nbformat_minor": 5
}
